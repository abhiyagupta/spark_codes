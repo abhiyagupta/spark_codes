{
 "cells": [
  {
   "cell_type": "markdown",
   "id": "80a0a6a5",
   "metadata": {},
   "source": [
    "# Expr\n",
    "'''\n",
    "Resources:\n",
    "https://spark.apache.org/docs/latest/api/python/reference/pyspark.sql/api/pyspark.sql.functions.expr.html?highlight=expr#pyspark.sql.functions.expr\n",
    "'''"
   ]
  },
  {
   "cell_type": "code",
   "execution_count": null,
   "id": "a4389a3a",
   "metadata": {},
   "outputs": [],
   "source": [
    "# Reading the countries csv file as a Dataframe\n",
    "countries_path = '/FileStore/tables/countries.csv'\n",
    " \n",
    "from pyspark.sql.types import IntegerType, StringType, DoubleType, StructField, StructType\n",
    "countries_schema = StructType([\n",
    "                    StructField(\"COUNTRY_ID\", IntegerType(), False),\n",
    "                    StructField(\"NAME\", StringType(), False),\n",
    "                    StructField(\"NATIONALITY\", StringType(), False),\n",
    "                    StructField(\"COUNTRY_CODE\", StringType(), False),\n",
    "                    StructField(\"ISO_ALPHA2\", StringType(), False),\n",
    "                    StructField(\"CAPITAL\", StringType(), False),\n",
    "                    StructField(\"POPULATION\", DoubleType(), False),\n",
    "                    StructField(\"AREA_KM2\", IntegerType(), False),\n",
    "                    StructField(\"REGION_ID\", IntegerType(), True),\n",
    "                    StructField(\"SUB_REGION_ID\", IntegerType(), True),\n",
    "                    StructField(\"INTERMEDIATE_REGION_ID\", IntegerType(), True),\n",
    "                    StructField(\"ORGANIZATION_REGION_ID\", IntegerType(), True)\n",
    "                    ]\n",
    "                    )\n",
    " \n",
    "countries=spark.read.csv(path=countries_path, header=True, schema=countries_schema)"
   ]
  },
  {
   "cell_type": "code",
   "execution_count": null,
   "id": "ae341e35",
   "metadata": {},
   "outputs": [],
   "source": [
    "countries.display()"
   ]
  },
  {
   "cell_type": "code",
   "execution_count": null,
   "id": "644d497c",
   "metadata": {},
   "outputs": [],
   "source": [
    "# Importing the expr function\n",
    "from pyspark.sql.functions import expr"
   ]
  },
  {
   "cell_type": "code",
   "execution_count": null,
   "id": "f178bad4",
   "metadata": {},
   "outputs": [],
   "source": [
    "# Expr allows the use of SQL syntax, using the SQL aliasing method\n",
    "countries.select(expr('NAME as country_name')).display()"
   ]
  },
  {
   "cell_type": "code",
   "execution_count": null,
   "id": "23d5ad36",
   "metadata": {},
   "outputs": [],
   "source": [
    "# Expr allows the use of SQL syntax, using the SQL left function\n",
    "countries.select(expr('left(NAME,2) as name')).display()"
   ]
  },
  {
   "cell_type": "code",
   "execution_count": null,
   "id": "43299bd5",
   "metadata": {},
   "outputs": [],
   "source": [
    "# Expr allows the use of SQL syntax, using the SQL case statement\n",
    "countries.withColumn('population_class', expr(\"case when population > 100000000 then 'large' when population >50000000 then 'medium' else 'small' end\")).display()"
   ]
  },
  {
   "cell_type": "code",
   "execution_count": null,
   "id": "c5ee3c37",
   "metadata": {},
   "outputs": [],
   "source": [
    "# Expr allows the use of SQL syntax, using the SQL case statement\n",
    "countries.withColumn('area_class', expr(\"case when area_km2 > 1000000 then 'large' when area_km2 > 300000 then 'medium' else 'small' end\")).display()"
   ]
  }
 ],
 "metadata": {
  "kernelspec": {
   "display_name": "Python 3 (ipykernel)",
   "language": "python",
   "name": "python3"
  },
  "language_info": {
   "codemirror_mode": {
    "name": "ipython",
    "version": 3
   },
   "file_extension": ".py",
   "mimetype": "text/x-python",
   "name": "python",
   "nbconvert_exporter": "python",
   "pygments_lexer": "ipython3",
   "version": "3.9.13"
  }
 },
 "nbformat": 4,
 "nbformat_minor": 5
}
