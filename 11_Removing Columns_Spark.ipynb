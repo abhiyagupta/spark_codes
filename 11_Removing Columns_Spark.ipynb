{
 "cells": [
  {
   "cell_type": "markdown",
   "id": "c97ce9ee",
   "metadata": {},
   "source": [
    "# Removing Columns\n",
    "'''\n",
    "Resources:\n",
    "select: https://spark.apache.org/docs/latest/api/python/reference/pyspark.sql/api/pyspark.sql.DataFrame.select.html?highlight=select#pyspark.sql.DataFrame.select\n",
    "drop: https://spark.apache.org/docs/latest/api/python/reference/pyspark.sql/api/pyspark.sql.DataFrame.drop.html?highlight=drop#pyspark.sql.DataFrame.drop\n",
    "'''"
   ]
  },
  {
   "cell_type": "code",
   "execution_count": null,
   "id": "7c8f0b0f",
   "metadata": {},
   "outputs": [],
   "source": [
    "# Reading the countries csv file as a Dataframe\n",
    "countries_path = '/FileStore/tables/countries.csv'\n",
    " \n",
    "from pyspark.sql.types import IntegerType, StringType, DoubleType, StructField, StructType\n",
    "countries_schema = StructType([\n",
    "                    StructField(\"COUNTRY_ID\", IntegerType(), False),\n",
    "                    StructField(\"NAME\", StringType(), False),\n",
    "                    StructField(\"NATIONALITY\", StringType(), False),\n",
    "                    StructField(\"COUNTRY_CODE\", StringType(), False),\n",
    "                    StructField(\"ISO_ALPHA2\", StringType(), False),\n",
    "                    StructField(\"CAPITAL\", StringType(), False),\n",
    "                    StructField(\"POPULATION\", DoubleType(), False),\n",
    "                    StructField(\"AREA_KM2\", IntegerType(), False),\n",
    "                    StructField(\"REGION_ID\", IntegerType(), True),\n",
    "                    StructField(\"SUB_REGION_ID\", IntegerType(), True),\n",
    "                    StructField(\"INTERMEDIATE_REGION_ID\", IntegerType(), True),\n",
    "                    StructField(\"ORGANIZATION_REGION_ID\", IntegerType(), True)\n",
    "                    ]\n",
    "                    )\n",
    " \n",
    "countries=spark.read.csv(path=countries_path, header=True, schema=countries_schema)"
   ]
  },
  {
   "cell_type": "code",
   "execution_count": null,
   "id": "a2bad11f",
   "metadata": {},
   "outputs": [],
   "source": [
    "countries.display()\n"
   ]
  },
  {
   "cell_type": "code",
   "execution_count": null,
   "id": "faf0efb6",
   "metadata": {},
   "outputs": [],
   "source": [
    "# Using the select method\n",
    "countries_2 = countries.select('name','capital', 'population')"
   ]
  },
  {
   "cell_type": "code",
   "execution_count": null,
   "id": "efcf2072",
   "metadata": {},
   "outputs": [],
   "source": [
    "countries_2.display()"
   ]
  },
  {
   "cell_type": "code",
   "execution_count": null,
   "id": "6e65cdae",
   "metadata": {},
   "outputs": [],
   "source": [
    "# Using the drop method\n",
    "countries_3 = countries.drop(countries['organization_region_id'])"
   ]
  },
  {
   "cell_type": "code",
   "execution_count": null,
   "id": "1af0feaa",
   "metadata": {},
   "outputs": [],
   "source": [
    "countries_3.display()"
   ]
  },
  {
   "cell_type": "code",
   "execution_count": null,
   "id": "ba328599",
   "metadata": {},
   "outputs": [],
   "source": [
    "countries_3.drop('sub_region_id', 'intermediate_region_id').display()"
   ]
  }
 ],
 "metadata": {
  "kernelspec": {
   "display_name": "Python 3 (ipykernel)",
   "language": "python",
   "name": "python3"
  },
  "language_info": {
   "codemirror_mode": {
    "name": "ipython",
    "version": 3
   },
   "file_extension": ".py",
   "mimetype": "text/x-python",
   "name": "python",
   "nbconvert_exporter": "python",
   "pygments_lexer": "ipython3",
   "version": "3.9.13"
  }
 },
 "nbformat": 4,
 "nbformat_minor": 5
}
