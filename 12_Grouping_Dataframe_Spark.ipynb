{
 "cells": [
  {
   "cell_type": "markdown",
   "id": "28489d98",
   "metadata": {},
   "source": [
    "# Grouping your Dataframe\n",
    "'''\n",
    "Resources:\n",
    "Grouping: https://spark.apache.org/docs/latest/api/python/reference/pyspark.sql/grouping.html\n",
    "Aggregate Functions: https://spark.apache.org/docs/latest/api/python/reference/pyspark.sql/functions.html#aggregate-functions\n",
    "'''"
   ]
  },
  {
   "cell_type": "code",
   "execution_count": null,
   "id": "89a335ba",
   "metadata": {},
   "outputs": [],
   "source": [
    "countries_path = '/FileStore/tables/countries.csv'\n",
    " \n",
    "from pyspark.sql.types import IntegerType, StringType, DoubleType, StructField, StructType\n",
    "countries_schema = StructType([\n",
    "                    StructField(\"COUNTRY_ID\", IntegerType(), False),\n",
    "                    StructField(\"NAME\", StringType(), False),\n",
    "                    StructField(\"NATIONALITY\", StringType(), False),\n",
    "                    StructField(\"COUNTRY_CODE\", StringType(), False),\n",
    "                    StructField(\"ISO_ALPHA2\", StringType(), False),\n",
    "                    StructField(\"CAPITAL\", StringType(), False),\n",
    "                    StructField(\"POPULATION\", DoubleType(), False),\n",
    "                    StructField(\"AREA_KM2\", IntegerType(), False),\n",
    "                    StructField(\"REGION_ID\", IntegerType(), True),\n",
    "                    StructField(\"SUB_REGION_ID\", IntegerType(), True),\n",
    "                    StructField(\"INTERMEDIATE_REGION_ID\", IntegerType(), True),\n",
    "                    StructField(\"ORGANIZATION_REGION_ID\", IntegerType(), True)\n",
    "                    ]\n",
    "                    )\n",
    " \n",
    "countries=spark.read.csv(path=countries_path, header=True, schema=countries_schema)"
   ]
  },
  {
   "cell_type": "code",
   "execution_count": null,
   "id": "ef529f4c",
   "metadata": {},
   "outputs": [],
   "source": [
    "countries.display()"
   ]
  },
  {
   "cell_type": "code",
   "execution_count": null,
   "id": "05ccce3d",
   "metadata": {},
   "outputs": [],
   "source": [
    "# Using the groupBy method\n",
    "countries.groupBy('region_id')"
   ]
  },
  {
   "cell_type": "code",
   "execution_count": null,
   "id": "8855f3dd",
   "metadata": {},
   "outputs": [],
   "source": [
    "# Importing all functions and aggregating the grouped Dataframe\n",
    "from pyspark.sql.functions import *\n",
    "countries. \\\n",
    "groupBy('region_id'). \\\n",
    "sum('population', 'area_km2'). \\\n",
    "display()"
   ]
  },
  {
   "cell_type": "code",
   "execution_count": null,
   "id": "fc26e547",
   "metadata": {},
   "outputs": [],
   "source": [
    "# Use the agg function for multiple aggregations\n",
    "countries.groupBy('region_id').agg(avg('population'), sum('area_km2')).display()"
   ]
  },
  {
   "cell_type": "code",
   "execution_count": null,
   "id": "0583fa07",
   "metadata": {},
   "outputs": [],
   "source": [
    "# Use the agg function for multiple aggregations\n",
    "countries.groupBy('region_id', 'sub_region_id').agg(avg('population'), sum('area_km2')).display()"
   ]
  },
  {
   "cell_type": "code",
   "execution_count": null,
   "id": "5d9b7820",
   "metadata": {},
   "outputs": [],
   "source": [
    "# Using withColumnRenamed\n",
    "countries.groupBy('region_id', 'sub_region_id'). \\\n",
    "agg(sum('population'), sum('area_km2')). \\\n",
    "withColumnRenamed('sum(population)', 'total_pop'). \\\n",
    "withColumnRenamed('sum(area_km2)', 'total_area'). \\\n",
    "display()"
   ]
  },
  {
   "cell_type": "code",
   "execution_count": null,
   "id": "93d5af74",
   "metadata": {},
   "outputs": [],
   "source": [
    "# Using alias\n",
    "countries.groupBy('region_id', 'sub_region_id'). \\\n",
    "agg(sum('population').alias('total_pop'), sum('area_km2').alias('total_area')). \\\n",
    "display()"
   ]
  },
  {
   "cell_type": "code",
   "execution_count": null,
   "id": "17c1a363",
   "metadata": {},
   "outputs": [],
   "source": [
    "# Use the sort function to sort the resulting Dataframe\n",
    "countries.groupBy('region_id', 'sub_region_id'). \\\n",
    "agg(max('population').alias('max_pop'), min('population').alias('min_pop')). \\\n",
    "sort(countries['region_id'].asc()). \\\n",
    "display()"
   ]
  }
 ],
 "metadata": {
  "kernelspec": {
   "display_name": "Python 3 (ipykernel)",
   "language": "python",
   "name": "python3"
  },
  "language_info": {
   "codemirror_mode": {
    "name": "ipython",
    "version": 3
   },
   "file_extension": ".py",
   "mimetype": "text/x-python",
   "name": "python",
   "nbconvert_exporter": "python",
   "pygments_lexer": "ipython3",
   "version": "3.9.13"
  }
 },
 "nbformat": 4,
 "nbformat_minor": 5
}
