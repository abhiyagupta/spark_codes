{
 "cells": [
  {
   "cell_type": "markdown",
   "id": "bfc62e3b",
   "metadata": {},
   "source": [
    "# Pivotting Dataframes\n",
    "'''\n",
    "Resources:\n",
    "pivot: https://spark.apache.org/docs/latest/api/python/reference/pyspark.sql/api/pyspark.sql.GroupedData.pivot.html?highlight=pivot#pyspark.sql.GroupedData.pivot\n",
    "'''"
   ]
  },
  {
   "cell_type": "code",
   "execution_count": null,
   "id": "6a6cc4f6",
   "metadata": {},
   "outputs": [],
   "source": [
    "# Reading in the countries csv file into a Dataframe\n",
    "countries_path = '/FileStore/tables/countries.csv'\n",
    " \n",
    "from pyspark.sql.types import IntegerType, StringType, DoubleType, StructField, StructType\n",
    "countries_schema = StructType([\n",
    "                    StructField(\"COUNTRY_ID\", IntegerType(), False),\n",
    "                    StructField(\"NAME\", StringType(), False),\n",
    "                    StructField(\"NATIONALITY\", StringType(), False),\n",
    "                    StructField(\"COUNTRY_CODE\", StringType(), False),\n",
    "                    StructField(\"ISO_ALPHA2\", StringType(), False),\n",
    "                    StructField(\"CAPITAL\", StringType(), False),\n",
    "                    StructField(\"POPULATION\", DoubleType(), False),\n",
    "                    StructField(\"AREA_KM2\", IntegerType(), False),\n",
    "                    StructField(\"REGION_ID\", IntegerType(), True),\n",
    "                    StructField(\"SUB_REGION_ID\", IntegerType(), True),\n",
    "                    StructField(\"INTERMEDIATE_REGION_ID\", IntegerType(), True),\n",
    "                    StructField(\"ORGANIZATION_REGION_ID\", IntegerType(), True)\n",
    "                    ]\n",
    "                    )\n",
    " \n",
    "countries=spark.read.csv(path=countries_path, header=True, schema=countries_schema)\n",
    " "
   ]
  },
  {
   "cell_type": "code",
   "execution_count": null,
   "id": "9dc78b94",
   "metadata": {},
   "outputs": [],
   "source": [
    "countries.display()"
   ]
  },
  {
   "cell_type": "code",
   "execution_count": null,
   "id": "d7f88e35",
   "metadata": {},
   "outputs": [],
   "source": [
    "# Using pivot after groupyBy to pivot on the region_id column\n",
    "countries.groupBy('sub_region_id').pivot('region_id').sum('population').display()"
   ]
  }
 ],
 "metadata": {
  "kernelspec": {
   "display_name": "Python 3 (ipykernel)",
   "language": "python",
   "name": "python3"
  },
  "language_info": {
   "codemirror_mode": {
    "name": "ipython",
    "version": 3
   },
   "file_extension": ".py",
   "mimetype": "text/x-python",
   "name": "python",
   "nbconvert_exporter": "python",
   "pygments_lexer": "ipython3",
   "version": "3.9.13"
  }
 },
 "nbformat": 4,
 "nbformat_minor": 5
}
