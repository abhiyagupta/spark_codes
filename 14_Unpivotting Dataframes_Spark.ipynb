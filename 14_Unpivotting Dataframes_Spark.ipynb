{
 "cells": [
  {
   "cell_type": "markdown",
   "id": "7985676c",
   "metadata": {},
   "source": [
    "# Unpivotting Dataframes"
   ]
  },
  {
   "cell_type": "code",
   "execution_count": null,
   "id": "8e3639db",
   "metadata": {},
   "outputs": [],
   "source": [
    "# Reading the countries csv file into a dataframe\n",
    "countries_path = '/FileStore/tables/countries.csv'\n",
    " \n",
    "from pyspark.sql.types import IntegerType, StringType, DoubleType, StructField, StructType\n",
    "countries_schema = StructType([\n",
    "                    StructField(\"COUNTRY_ID\", IntegerType(), False),\n",
    "                    StructField(\"NAME\", StringType(), False),\n",
    "                    StructField(\"NATIONALITY\", StringType(), False),\n",
    "                    StructField(\"COUNTRY_CODE\", StringType(), False),\n",
    "                    StructField(\"ISO_ALPHA2\", StringType(), False),\n",
    "                    StructField(\"CAPITAL\", StringType(), False),\n",
    "                    StructField(\"POPULATION\", DoubleType(), False),\n",
    "                    StructField(\"AREA_KM2\", IntegerType(), False),\n",
    "                    StructField(\"REGION_ID\", IntegerType(), True),\n",
    "                    StructField(\"SUB_REGION_ID\", IntegerType(), True),\n",
    "                    StructField(\"INTERMEDIATE_REGION_ID\", IntegerType(), True),\n",
    "                    StructField(\"ORGANIZATION_REGION_ID\", IntegerType(), True)\n",
    "                    ]\n",
    "                    )\n",
    " \n",
    "countries=spark.read.csv(path=countries_path, header=True, schema=countries_schema)"
   ]
  },
  {
   "cell_type": "code",
   "execution_count": null,
   "id": "06718c00",
   "metadata": {},
   "outputs": [],
   "source": [
    "# Reading the regions csv file into a dataframe\n",
    "regions_path = '/FileStore/tables/country_regions.csv'\n",
    " \n",
    "regions_schema = StructType([\n",
    "                    StructField(\"Id\", StringType(), False),\n",
    "                    StructField(\"NAME\", StringType(), False)\n",
    "                    ]\n",
    "                    )\n",
    " \n",
    "regions = spark.read.csv(path=regions_path, header=True, schema=regions_schema)"
   ]
  },
  {
   "cell_type": "code",
   "execution_count": null,
   "id": "620beb76",
   "metadata": {},
   "outputs": [],
   "source": [
    "# joining the countries and regions dataframes\n",
    "countries = countries.join(regions,countries['region_id']==regions['Id'], 'inner').select(countries['name'].alias('country_name'), regions['name'].alias('region_name'),countries['population'])"
   ]
  },
  {
   "cell_type": "code",
   "execution_count": null,
   "id": "855b92d7",
   "metadata": {},
   "outputs": [],
   "source": [
    "countries.display()"
   ]
  },
  {
   "cell_type": "code",
   "execution_count": null,
   "id": "f6408db2",
   "metadata": {},
   "outputs": [],
   "source": [
    "# Grouping and pivotting the resulting joined countries dataframe\n",
    "pivot_countries = countries.groupBy('country_name').pivot('region_name').sum('population')"
   ]
  },
  {
   "cell_type": "code",
   "execution_count": null,
   "id": "8667c024",
   "metadata": {},
   "outputs": [],
   "source": [
    "pivot_countries.display()"
   ]
  },
  {
   "cell_type": "code",
   "execution_count": null,
   "id": "e9b129a6",
   "metadata": {},
   "outputs": [],
   "source": [
    "# Using SQL syntax to unpivot the dataframe\n",
    "from pyspark.sql.functions import expr\n",
    " \n",
    "pivot_countries.select('country_name', expr(\"stack(5, 'Africa', Africa, 'America', America, 'Asia', Asia, 'Europe', Europe,'Oceania', Oceania) as (region_name, population)\")).filter('population is not null').display()"
   ]
  }
 ],
 "metadata": {
  "kernelspec": {
   "display_name": "Python 3 (ipykernel)",
   "language": "python",
   "name": "python3"
  },
  "language_info": {
   "codemirror_mode": {
    "name": "ipython",
    "version": 3
   },
   "file_extension": ".py",
   "mimetype": "text/x-python",
   "name": "python",
   "nbconvert_exporter": "python",
   "pygments_lexer": "ipython3",
   "version": "3.9.13"
  }
 },
 "nbformat": 4,
 "nbformat_minor": 5
}
