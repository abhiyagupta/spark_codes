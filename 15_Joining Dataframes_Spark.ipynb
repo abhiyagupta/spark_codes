{
 "cells": [
  {
   "cell_type": "markdown",
   "id": "d83ab530",
   "metadata": {},
   "source": [
    "# Joining Dataframes\n",
    "'''\n",
    "Resources:\n",
    "join: https://spark.apache.org/docs/latest/api/python/reference/pyspark.sql/api/pyspark.sql.DataFrame.join.html?highlight=join#pyspark.sql.DataFrame.join\n",
    "'''"
   ]
  },
  {
   "cell_type": "code",
   "execution_count": null,
   "id": "b0cc5f71",
   "metadata": {},
   "outputs": [],
   "source": [
    "# Reading in the countries csv file\n",
    "countries_path = '/FileStore/tables/countries.csv'\n",
    " \n",
    "from pyspark.sql.types import IntegerType, StringType, DoubleType, StructField, StructType\n",
    "countries_schema = StructType([\n",
    "                    StructField(\"COUNTRY_ID\", IntegerType(), False),\n",
    "                    StructField(\"NAME\", StringType(), False),\n",
    "                    StructField(\"NATIONALITY\", StringType(), False),\n",
    "                    StructField(\"COUNTRY_CODE\", StringType(), False),\n",
    "                    StructField(\"ISO_ALPHA2\", StringType(), False),\n",
    "                    StructField(\"CAPITAL\", StringType(), False),\n",
    "                    StructField(\"POPULATION\", DoubleType(), False),\n",
    "                    StructField(\"AREA_KM2\", IntegerType(), False),\n",
    "                    StructField(\"REGION_ID\", IntegerType(), True),\n",
    "                    StructField(\"SUB_REGION_ID\", IntegerType(), True),\n",
    "                    StructField(\"INTERMEDIATE_REGION_ID\", IntegerType(), True),\n",
    "                    StructField(\"ORGANIZATION_REGION_ID\", IntegerType(), True)\n",
    "                    ]\n",
    "                    )\n",
    " \n",
    "countries=spark.read.csv(path=countries_path, header=True, schema=countries_schema)"
   ]
  },
  {
   "cell_type": "code",
   "execution_count": null,
   "id": "19b963cb",
   "metadata": {},
   "outputs": [],
   "source": [
    "countries.display()"
   ]
  },
  {
   "cell_type": "code",
   "execution_count": null,
   "id": "0d55a8d6",
   "metadata": {},
   "outputs": [],
   "source": [
    "# Reading in the regions csv file\n",
    "regions_path = '/FileStore/tables/country_regions.csv'\n",
    " \n",
    "regions_schema = StructType([\n",
    "                    StructField(\"Id\", StringType(), False),\n",
    "                    StructField(\"NAME\", StringType(), False)\n",
    "                    ]\n",
    "                    )\n",
    " \n",
    "regions = spark.read.csv(path=regions_path, header=True, schema=regions_schema)"
   ]
  },
  {
   "cell_type": "code",
   "execution_count": null,
   "id": "1ba8f00c",
   "metadata": {},
   "outputs": [],
   "source": [
    "regions.display()"
   ]
  },
  {
   "cell_type": "code",
   "execution_count": null,
   "id": "4ccef678",
   "metadata": {},
   "outputs": [],
   "source": [
    "# Joining the countries and regions dataframes\n",
    "countries.join(regions, countries['region_id']==regions['Id'], 'right').display()"
   ]
  },
  {
   "cell_type": "code",
   "execution_count": null,
   "id": "f63ea540",
   "metadata": {},
   "outputs": [],
   "source": [
    "# Joining and sorting the countries and regions dataframes, also selecting only specific columns\n",
    "countries. \\\n",
    "join(regions, regions['Id']==countries['region_id'], 'inner'). \\\n",
    "select(countries['name'].alias('country_name'), regions['name'].alias('region_name'), countries['population']). \\\n",
    "sort(countries['population'].desc()). \\\n",
    "display()"
   ]
  }
 ],
 "metadata": {
  "kernelspec": {
   "display_name": "Python 3 (ipykernel)",
   "language": "python",
   "name": "python3"
  },
  "language_info": {
   "codemirror_mode": {
    "name": "ipython",
    "version": 3
   },
   "file_extension": ".py",
   "mimetype": "text/x-python",
   "name": "python",
   "nbconvert_exporter": "python",
   "pygments_lexer": "ipython3",
   "version": "3.9.13"
  }
 },
 "nbformat": 4,
 "nbformat_minor": 5
}
