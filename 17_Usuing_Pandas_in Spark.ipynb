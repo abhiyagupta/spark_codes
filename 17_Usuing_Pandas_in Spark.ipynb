{
 "cells": [
  {
   "cell_type": "markdown",
   "id": "c3f188b4",
   "metadata": {},
   "source": [
    "# Using Pandas in Databricks\n",
    "''''\n",
    "Resources:\n",
    "Pandas API on Spark: https://spark.apache.org/docs/latest/api/python/reference/pyspark.pandas/index.html\n",
    "'''"
   ]
  },
  {
   "cell_type": "code",
   "execution_count": null,
   "id": "56260751",
   "metadata": {},
   "outputs": [],
   "source": [
    "# Reading in the countries csv file\n",
    "countries_path = '/FileStore/tables/countries.csv'\n",
    " \n",
    "from pyspark.sql.types import IntegerType, StringType, DoubleType, StructField, StructType\n",
    "countries_schema = StructType([\n",
    "                    StructField(\"COUNTRY_ID\", IntegerType(), False),\n",
    "                    StructField(\"NAME\", StringType(), False),\n",
    "                    StructField(\"NATIONALITY\", StringType(), False),\n",
    "                    StructField(\"COUNTRY_CODE\", StringType(), False),\n",
    "                    StructField(\"ISO_ALPHA2\", StringType(), False),\n",
    "                    StructField(\"CAPITAL\", StringType(), False),\n",
    "                    StructField(\"POPULATION\", DoubleType(), False),\n",
    "                    StructField(\"AREA_KM2\", IntegerType(), False),\n",
    "                    StructField(\"REGION_ID\", IntegerType(), True),\n",
    "                    StructField(\"SUB_REGION_ID\", IntegerType(), True),\n",
    "                    StructField(\"INTERMEDIATE_REGION_ID\", IntegerType(), True),\n",
    "                    StructField(\"ORGANIZATION_REGION_ID\", IntegerType(), True)\n",
    "                    ]\n",
    "                    )\n",
    " \n",
    "countries=spark.read.csv(path=countries_path, header=True, schema=countries_schema)"
   ]
  },
  {
   "cell_type": "code",
   "execution_count": null,
   "id": "49b898a7",
   "metadata": {},
   "outputs": [],
   "source": [
    "# Importing the pandas library\n",
    "import pandas as pd"
   ]
  },
  {
   "cell_type": "code",
   "execution_count": null,
   "id": "470bf6ea",
   "metadata": {},
   "outputs": [],
   "source": [
    "# Converting a spark dataframe to a pandas dataframe using toPandas()\n",
    "countries_pd = countries.toPandas()"
   ]
  },
  {
   "cell_type": "code",
   "execution_count": null,
   "id": "84493162",
   "metadata": {},
   "outputs": [],
   "source": [
    "# You can now use Pandas on the resulting dataframe\n",
    "countries_pd.iloc[0]\n",
    "\n",
    "\n",
    "''''''\n",
    "Out[6]: COUNTRY_ID                          1\n",
    "NAME                      Afghanistan\n",
    "NATIONALITY                    Afghan\n",
    "COUNTRY_CODE                      AFG\n",
    "ISO_ALPHA2                         AF\n",
    "CAPITAL                         Kabul\n",
    "POPULATION                 38041754.0\n",
    "AREA_KM2                     652230.0\n",
    "REGION_ID                          30\n",
    "SUB_REGION_ID                    30.0\n",
    "INTERMEDIATE_REGION_ID            NaN\n",
    "ORGANIZATION_REGION_ID             30\n",
    "Name: 0, dtype: object\n",
    "        ''''''"
   ]
  }
 ],
 "metadata": {
  "kernelspec": {
   "display_name": "Python 3 (ipykernel)",
   "language": "python",
   "name": "python3"
  },
  "language_info": {
   "codemirror_mode": {
    "name": "ipython",
    "version": 3
   },
   "file_extension": ".py",
   "mimetype": "text/x-python",
   "name": "python",
   "nbconvert_exporter": "python",
   "pygments_lexer": "ipython3",
   "version": "3.9.13"
  }
 },
 "nbformat": 4,
 "nbformat_minor": 5
}
