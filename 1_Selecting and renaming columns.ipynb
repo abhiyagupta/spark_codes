{
 "cells": [
  {
   "cell_type": "markdown",
   "id": "fbe3318f",
   "metadata": {},
   "source": [
    "'''\n",
    "Selecting and Renaming Columns\n",
    "Resources\n",
    "select: https://spark.apache.org/docs/latest/api/python/reference/pyspark.sql/api/pyspark.sql.DataFrame.select.html?highlight=select#pyspark.sql.DataFrame.select\n",
    "col: https://spark.apache.org/docs/latest/api/python/reference/pyspark.sql/api/pyspark.sql.functions.col.html?highlight=col#pyspark.sql.functions.col\n",
    "alias: https://spark.apache.org/docs/latest/api/python/reference/pyspark.sql/api/pyspark.sql.Column.alias.html?highlight=alias#pyspark.sql.Column.alias\n",
    "withColumnRenamed: https://spark.apache.org/docs/latest/api/python/reference/pyspark.sql/api/pyspark.sql.DataFrame.withColumnRenamed.html?highlight=withcolumnrenamed#pyspark.sql.DataFrame.withColumnRenamed \n",
    "''''\n"
   ]
  },
  {
   "cell_type": "code",
   "execution_count": null,
   "id": "6186c6a2",
   "metadata": {
    "scrolled": true
   },
   "outputs": [],
   "source": [
    "# Reading in the countries csv file as a Dataframe\n",
    "\n",
    "countries_path = '/FileStore/tables/countries.csv'\n",
    " \n",
    "from pyspark.sql.types import IntegerType, StringType, DoubleType, StructField, StructType\n",
    "countries_schema = StructType([\n",
    "                    StructField(\"COUNTRY_ID\", IntegerType(), False),\n",
    "                    StructField(\"NAME\", StringType(), False),\n",
    "                    StructField(\"NATIONALITY\", StringType(), False),\n",
    "                    StructField(\"COUNTRY_CODE\", StringType(), False),\n",
    "                    StructField(\"ISO_ALPHA2\", StringType(), False),\n",
    "                    StructField(\"CAPITAL\", StringType(), False),\n",
    "                    StructField(\"POPULATION\", DoubleType(), False),\n",
    "                    StructField(\"AREA_KM2\", IntegerType(), False),\n",
    "                    StructField(\"REGION_ID\", IntegerType(), True),\n",
    "                    StructField(\"SUB_REGION_ID\", IntegerType(), True),\n",
    "                    StructField(\"INTERMEDIATE_REGION_ID\", IntegerType(), True),\n",
    "                    StructField(\"ORGANIZATION_REGION_ID\", IntegerType(), True)\n",
    "                    ]\n",
    "                    )\n",
    " \n",
    "countries = spark.read.csv(path=countries_path, header = True, schema=countries_schema)"
   ]
  },
  {
   "cell_type": "code",
   "execution_count": null,
   "id": "bf1f8151",
   "metadata": {},
   "outputs": [],
   "source": [
    "countries.display()"
   ]
  },
  {
   "cell_type": "code",
   "execution_count": null,
   "id": "3c1a1b3f",
   "metadata": {},
   "outputs": [],
   "source": [
    "# You can select columns by using the select method and specifying the column names\n",
    "countries.select('NAME', 'capital', 'population').display()\n"
   ]
  },
  {
   "cell_type": "code",
   "execution_count": null,
   "id": "8d274746",
   "metadata": {},
   "outputs": [],
   "source": [
    "# You can also provide the columns by specifically referring to the dataframe and passing the column name inside of the square brackets, this allows you to perform additonal methods on the columns\n",
    "countries.select(countries['NAME'], countries['capital'], countries['population']).display()"
   ]
  },
  {
   "cell_type": "code",
   "execution_count": null,
   "id": "1f9559fa",
   "metadata": {},
   "outputs": [],
   "source": [
    "# You can also provide the columns by qualifying the column name with the Dataframe, this allows you to perform additonal methods on the columns\n",
    "countries.select(countries.NAME, countries.CAPITAL, countries.POPULATION).display()"
   ]
  },
  {
   "cell_type": "code",
   "execution_count": null,
   "id": "8aee3117",
   "metadata": {},
   "outputs": [],
   "source": [
    "# Importing the col function\n",
    "from pyspark.sql.functions import *\n",
    " \n",
    "countries.select(col('name'), col('capital'), col('population')).display()"
   ]
  },
  {
   "cell_type": "code",
   "execution_count": null,
   "id": "f2b29416",
   "metadata": {},
   "outputs": [],
   "source": [
    "# The alias method allows you to rename the columns\n",
    "countries.select(countries['name'].alias('country_name'), countries['capital'].alias('capital_city'), countries['population']).display()"
   ]
  },
  {
   "cell_type": "code",
   "execution_count": null,
   "id": "c1f7eb27",
   "metadata": {},
   "outputs": [],
   "source": [
    "# withColumnRenamed allows you to rename a column\n",
    "countries.select('name', 'capital', 'population').withColumnRenamed('name', 'country_name').withColumnRenamed('capital', 'capital_city').display()"
   ]
  },
  {
   "cell_type": "code",
   "execution_count": null,
   "id": "8c46fd5b",
   "metadata": {},
   "outputs": [],
   "source": [
    "# Reading in the regions.csv file and assiging it to a variable\n",
    "regions_path = '/FileStore/tables/country_regions.csv'\n",
    " \n",
    "regions_schema = StructType([\n",
    "    StructField('Id', StringType(), False),\n",
    "    StructField('NAME', StringType(), False)\n",
    "])\n",
    " \n",
    "regions = spark.read.csv(path = regions_path, header=True, schema=regions_schema)"
   ]
  },
  {
   "cell_type": "code",
   "execution_count": null,
   "id": "08d424d7",
   "metadata": {},
   "outputs": [],
   "source": [
    "regions.display()"
   ]
  },
  {
   "cell_type": "code",
   "execution_count": null,
   "id": "0a37f2a8",
   "metadata": {},
   "outputs": [],
   "source": [
    "# aliasing the column 'name' to 'continent' with alias\n",
    "regions.select(regions['Id'], regions['name'].alias('continent')).display()"
   ]
  },
  {
   "cell_type": "code",
   "execution_count": null,
   "id": "b8544ccf",
   "metadata": {},
   "outputs": [],
   "source": [
    "# aliasing the column 'name' to 'continent' with withColumnRenamed\n",
    "regions.select(regions['Id'], regions['name']).withColumnRenamed('name', 'continent').display()"
   ]
  },
  {
   "cell_type": "code",
   "execution_count": null,
   "id": "7cd2170b",
   "metadata": {},
   "outputs": [],
   "source": []
  }
 ],
 "metadata": {
  "kernelspec": {
   "display_name": "Python 3 (ipykernel)",
   "language": "python",
   "name": "python3"
  },
  "language_info": {
   "codemirror_mode": {
    "name": "ipython",
    "version": 3
   },
   "file_extension": ".py",
   "mimetype": "text/x-python",
   "name": "python",
   "nbconvert_exporter": "python",
   "pygments_lexer": "ipython3",
   "version": "3.9.13"
  }
 },
 "nbformat": 4,
 "nbformat_minor": 5
}
