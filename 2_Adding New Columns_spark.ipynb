{
 "cells": [
  {
   "cell_type": "markdown",
   "id": "1a90fdcd",
   "metadata": {},
   "source": [
    "# Adding New Columns "
   ]
  },
  {
   "cell_type": "code",
   "execution_count": null,
   "id": "f42506d6",
   "metadata": {},
   "outputs": [],
   "source": [
    "'''\n",
    "Resources\n",
    "withColumn: https://spark.apache.org/docs/3.1.3/api/python/reference/api/pyspark.sql.DataFrame.withColumn.html?highlight=withcolumn#pyspark.sql.DataFrame.withColumn\n",
    "current_date: https://spark.apache.org/docs/3.1.3/api/python/reference/api/pyspark.sql.functions.current_date.html?highlight=current_date\n",
    "lit: https://spark.apache.org/docs/3.1.3/api/python/reference/api/pyspark.sql.functions.lit.html\n",
    "'''"
   ]
  },
  {
   "cell_type": "code",
   "execution_count": null,
   "id": "553e0c68",
   "metadata": {},
   "outputs": [],
   "source": [
    "# Reading in the countries.csv file into a Dataframe called countries\n",
    "countries_path = '/FileStore/tables/countries.csv'\n",
    " \n",
    "from pyspark.sql.types import IntegerType, StringType, DoubleType, StructField, StructType\n",
    "countries_schema = StructType([\n",
    "                    StructField(\"COUNTRY_ID\", IntegerType(), False),\n",
    "                    StructField(\"NAME\", StringType(), False),\n",
    "                    StructField(\"NATIONALITY\", StringType(), False),\n",
    "                    StructField(\"COUNTRY_CODE\", StringType(), False),\n",
    "                    StructField(\"ISO_ALPHA2\", StringType(), False),\n",
    "                    StructField(\"CAPITAL\", StringType(), False),\n",
    "                    StructField(\"POPULATION\", DoubleType(), False),\n",
    "                    StructField(\"AREA_KM2\", IntegerType(), False),\n",
    "                    StructField(\"REGION_ID\", IntegerType(), True),\n",
    "                    StructField(\"SUB_REGION_ID\", IntegerType(), True),\n",
    "                    StructField(\"INTERMEDIATE_REGION_ID\", IntegerType(), True),\n",
    "                    StructField(\"ORGANIZATION_REGION_ID\", IntegerType(), True)\n",
    "                    ]\n",
    "                    )\n",
    " \n",
    "countries=spark.read.csv(path=countries_path, header=True, schema=countries_schema)"
   ]
  },
  {
   "cell_type": "code",
   "execution_count": null,
   "id": "ebd42acd",
   "metadata": {},
   "outputs": [],
   "source": [
    "# Adding a new column called current_date\n",
    "from pyspark.sql.functions import current_date\n",
    "countries.withColumn('current_date', current_date()).display()"
   ]
  },
  {
   "cell_type": "code",
   "execution_count": null,
   "id": "7617ab7e",
   "metadata": {},
   "outputs": [],
   "source": [
    "# Adding a new column with a literal value \n",
    "# eg columnd new added updated_by with literal( Hard coded) value 'MV'\n",
    "from pyspark.sql.functions import lit\n",
    "countries.withColumn('updated_by', lit('MV')).display()"
   ]
  },
  {
   "cell_type": "code",
   "execution_count": null,
   "id": "e8484f37",
   "metadata": {},
   "outputs": [],
   "source": []
  },
  {
   "cell_type": "code",
   "execution_count": null,
   "id": "d97eed3e",
   "metadata": {},
   "outputs": [],
   "source": [
    "# Adding a new column derived from using simple arithmetic on an existing column\n",
    "countries.withColumn('population_m', countries['population']/1000000).display()"
   ]
  }
 ],
 "metadata": {
  "kernelspec": {
   "display_name": "Python 3 (ipykernel)",
   "language": "python",
   "name": "python3"
  },
  "language_info": {
   "codemirror_mode": {
    "name": "ipython",
    "version": 3
   },
   "file_extension": ".py",
   "mimetype": "text/x-python",
   "name": "python",
   "nbconvert_exporter": "python",
   "pygments_lexer": "ipython3",
   "version": "3.9.13"
  }
 },
 "nbformat": 4,
 "nbformat_minor": 5
}
