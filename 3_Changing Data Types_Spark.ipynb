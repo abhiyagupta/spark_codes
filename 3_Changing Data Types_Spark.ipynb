{
 "cells": [
  {
   "cell_type": "markdown",
   "id": "a0fe5bd3",
   "metadata": {},
   "source": [
    "# Changing Data Types"
   ]
  },
  {
   "cell_type": "code",
   "execution_count": null,
   "id": "69b4f811",
   "metadata": {},
   "outputs": [],
   "source": [
    "'''\n",
    "Resources:\n",
    "data types in spark: https://spark.apache.org/docs/latest/sql-ref-datatypes.html\n",
    "cast: https://spark.apache.org/docs/latest/api/python/reference/pyspark.sql/api/pyspark.sql.Column.cast.html?highlight=cast#pyspark.sql.Column.cast\n",
    "'''"
   ]
  },
  {
   "cell_type": "code",
   "execution_count": null,
   "id": "606cf7f5",
   "metadata": {},
   "outputs": [],
   "source": [
    "# Reading in the countries.csv file and specifying the schema\n",
    "countries_path = '/FileStore/tables/countries.csv'\n",
    " \n",
    "from pyspark.sql.types import IntegerType, StringType, DoubleType, StructField, StructType\n",
    "countries_schema = StructType([\n",
    "                    StructField(\"COUNTRY_ID\", IntegerType(), False),\n",
    "                    StructField(\"NAME\", StringType(), False),\n",
    "                    StructField(\"NATIONALITY\", StringType(), False),\n",
    "                    StructField(\"COUNTRY_CODE\", StringType(), False),\n",
    "                    StructField(\"ISO_ALPHA2\", StringType(), False),\n",
    "                    StructField(\"CAPITAL\", StringType(), False),\n",
    "                    StructField(\"POPULATION\", DoubleType(), False),\n",
    "                    StructField(\"AREA_KM2\", IntegerType(), False),\n",
    "                    StructField(\"REGION_ID\", IntegerType(), True),\n",
    "                    StructField(\"SUB_REGION_ID\", IntegerType(), True),\n",
    "                    StructField(\"INTERMEDIATE_REGION_ID\", IntegerType(), True),\n",
    "                    StructField(\"ORGANIZATION_REGION_ID\", IntegerType(), True)\n",
    "                    ]\n",
    "                    )\n",
    " \n",
    "countries=spark.read.csv(path=countries_path, header=True, schema=countries_schema)"
   ]
  },
  {
   "cell_type": "code",
   "execution_count": null,
   "id": "f2129e50",
   "metadata": {},
   "outputs": [],
   "source": [
    "countries.dtypes\n",
    "\n",
    "''''''\n",
    "Out[2]: [('COUNTRY_ID', 'int'),\n",
    " ('NAME', 'string'),\n",
    " ('NATIONALITY', 'string'),\n",
    " ('COUNTRY_CODE', 'string'),\n",
    " ('ISO_ALPHA2', 'string'),\n",
    " ('CAPITAL', 'string'),\n",
    " ('POPULATION', 'double'),\n",
    " ('AREA_KM2', 'int'),\n",
    " ('REGION_ID', 'int'),\n",
    " ('SUB_REGION_ID', 'int'),\n",
    " ('INTERMEDIATE_REGION_ID', 'int'),\n",
    " ('ORGANIZATION_REGION_ID', 'int')]\n",
    "''''''"
   ]
  },
  {
   "cell_type": "code",
   "execution_count": null,
   "id": "54abdfb8",
   "metadata": {},
   "outputs": [],
   "source": [
    "# Reading the countries file without specifying the schema, into a new variable\n",
    "countries_dt = spark.read.csv(path=countries_path, header=True)"
   ]
  },
  {
   "cell_type": "code",
   "execution_count": null,
   "id": "43067bab",
   "metadata": {},
   "outputs": [],
   "source": [
    "# Note the data types are all string\n",
    "countries_dt.dtypes\n",
    "\n",
    "\n",
    "''''''\n",
    "Out[4]: [('COUNTRY_ID', 'string'),\n",
    " ('NAME', 'string'),\n",
    " ('NATIONALITY', 'string'),\n",
    " ('COUNTRY_CODE', 'string'),\n",
    " ('ISO_ALPHA2', 'string'),\n",
    " ('CAPITAL', 'string'),\n",
    " ('POPULATION', 'string'),\n",
    " ('AREA_KM2', 'string'),\n",
    " ('REGION_ID', 'string'),\n",
    " ('SUB_REGION_ID', 'string'),\n",
    " ('INTERMEDIATE_REGION_ID', 'string'),\n",
    " ('ORGANIZATION_REGION_ID', 'string')]\n",
    "''''''"
   ]
  },
  {
   "cell_type": "code",
   "execution_count": null,
   "id": "f96af57c",
   "metadata": {},
   "outputs": [],
   "source": [
    "# Using the cast method to cast the population column as IntegerType(), IntegerType() has already been imported in the first cell\n",
    "countries_dt.select(countries_dt['population'].cast(IntegerType())).dtypes\n",
    "\n",
    "''''''\n",
    "Out[6]: [('population', 'int')]\n",
    "''''''"
   ]
  },
  {
   "cell_type": "code",
   "execution_count": null,
   "id": "ca4f09be",
   "metadata": {},
   "outputs": [],
   "source": [
    "# Using the cast method to cast the population column as StringType(), StringType() has already been imported in the first cell\n",
    "countries.select(countries['population'].cast(StringType())).dtypes\n",
    "\n",
    "''''''\n",
    "Out[7]: [('population', 'string')]\n",
    "''''''"
   ]
  },
  {
   "cell_type": "code",
   "execution_count": null,
   "id": "c83fa04f",
   "metadata": {},
   "outputs": [],
   "source": []
  }
 ],
 "metadata": {
  "kernelspec": {
   "display_name": "Python 3 (ipykernel)",
   "language": "python",
   "name": "python3"
  },
  "language_info": {
   "codemirror_mode": {
    "name": "ipython",
    "version": 3
   },
   "file_extension": ".py",
   "mimetype": "text/x-python",
   "name": "python",
   "nbconvert_exporter": "python",
   "pygments_lexer": "ipython3",
   "version": "3.9.13"
  }
 },
 "nbformat": 4,
 "nbformat_minor": 5
}
