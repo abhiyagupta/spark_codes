{
 "cells": [
  {
   "cell_type": "markdown",
   "id": "39ab7dc9",
   "metadata": {},
   "source": [
    "# Math Function and Simple Arthmatic"
   ]
  },
  {
   "cell_type": "code",
   "execution_count": null,
   "id": "802faa73",
   "metadata": {},
   "outputs": [],
   "source": [
    "''''''\n",
    "Resources:\n",
    "Math Functions: https://spark.apache.org/docs/latest/api/python/reference/pyspark.sql/functions.html#math-functions\n",
    "''''''"
   ]
  },
  {
   "cell_type": "code",
   "execution_count": null,
   "id": "e57ff87c",
   "metadata": {},
   "outputs": [],
   "source": [
    "# Reading in the countries.csv file and specifying the schema\n",
    "countries_path = '/FileStore/tables/countries.csv'\n",
    " \n",
    "from pyspark.sql.types import IntegerType, StringType, DoubleType, StructField, StructType\n",
    "countries_schema = StructType([\n",
    "                    StructField(\"COUNTRY_ID\", IntegerType(), False),\n",
    "                    StructField(\"NAME\", StringType(), False),\n",
    "                    StructField(\"NATIONALITY\", StringType(), False),\n",
    "                    StructField(\"COUNTRY_CODE\", StringType(), False),\n",
    "                    StructField(\"ISO_ALPHA2\", StringType(), False),\n",
    "                    StructField(\"CAPITAL\", StringType(), False),\n",
    "                    StructField(\"POPULATION\", DoubleType(), False),\n",
    "                    StructField(\"AREA_KM2\", IntegerType(), False),\n",
    "                    StructField(\"REGION_ID\", IntegerType(), True),\n",
    "                    StructField(\"SUB_REGION_ID\", IntegerType(), True),\n",
    "                    StructField(\"INTERMEDIATE_REGION_ID\", IntegerType(), True),\n",
    "                    StructField(\"ORGANIZATION_REGION_ID\", IntegerType(), True)\n",
    "                    ]\n",
    "                    )\n",
    " \n",
    "countries=spark.read.csv(path=countries_path, header=True, schema=countries_schema)"
   ]
  },
  {
   "cell_type": "code",
   "execution_count": null,
   "id": "2732773c",
   "metadata": {},
   "outputs": [],
   "source": [
    "countries.display()"
   ]
  },
  {
   "cell_type": "code",
   "execution_count": null,
   "id": "4ed9a23f",
   "metadata": {},
   "outputs": [],
   "source": [
    "# Simple arithmetic to return the population in milions\n",
    "countries.select(countries['population']/1000000).withColumnRenamed('(population / 1000000)','population_m').display()"
   ]
  },
  {
   "cell_type": "code",
   "execution_count": null,
   "id": "756e2a06",
   "metadata": {},
   "outputs": [],
   "source": [
    "# Adding the column to a variable\n",
    "countries_2 = countries.select(countries['population']/1000000).withColumnRenamed('(population / 1000000)','population_m')"
   ]
  },
  {
   "cell_type": "code",
   "execution_count": null,
   "id": "d04442a8",
   "metadata": {},
   "outputs": [],
   "source": [
    "countries_2.display()"
   ]
  },
  {
   "cell_type": "code",
   "execution_count": null,
   "id": "3aca95e0",
   "metadata": {},
   "outputs": [],
   "source": [
    "# Using the round function to round to 3 decimal places\n",
    "from pyspark.sql.functions import round\n",
    "countries_2.select(round(countries_2['population_m'],3)).display()"
   ]
  },
  {
   "cell_type": "code",
   "execution_count": null,
   "id": "74e9f80d",
   "metadata": {},
   "outputs": [],
   "source": [
    "# Rounding to 1dp\n",
    "countries.withColumn('population_m', round(countries['population']/1000000,1)).display()"
   ]
  }
 ],
 "metadata": {
  "kernelspec": {
   "display_name": "Python 3 (ipykernel)",
   "language": "python",
   "name": "python3"
  },
  "language_info": {
   "codemirror_mode": {
    "name": "ipython",
    "version": 3
   },
   "file_extension": ".py",
   "mimetype": "text/x-python",
   "name": "python",
   "nbconvert_exporter": "python",
   "pygments_lexer": "ipython3",
   "version": "3.9.13"
  }
 },
 "nbformat": 4,
 "nbformat_minor": 5
}
