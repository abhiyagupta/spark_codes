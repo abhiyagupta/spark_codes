{
 "cells": [
  {
   "cell_type": "markdown",
   "id": "233712bd",
   "metadata": {},
   "source": [
    "# Date and Time Functions\n",
    "\n",
    "...\n",
    "Resources\n",
    "Datetime Functions: https://spark.apache.org/docs/latest/api/python/reference/pyspark.sql/functions.html#datetime-functions\n",
    "Datetime Patterns: https://spark.apache.org/docs/latest/sql-ref-datetime-pattern.html\n",
    "'''"
   ]
  },
  {
   "cell_type": "code",
   "execution_count": null,
   "id": "114f060b",
   "metadata": {},
   "outputs": [],
   "source": [
    "# Reading in the countries csv file\n",
    "countries_path = '/FileStore/tables/countries.csv'\n",
    " \n",
    "from pyspark.sql.types import IntegerType, StringType, DoubleType, StructField, StructType\n",
    "countries_schema = StructType([\n",
    "                    StructField(\"COUNTRY_ID\", IntegerType(), False),\n",
    "                    StructField(\"NAME\", StringType(), False),\n",
    "                    StructField(\"NATIONALITY\", StringType(), False),\n",
    "                    StructField(\"COUNTRY_CODE\", StringType(), False),\n",
    "                    StructField(\"ISO_ALPHA2\", StringType(), False),\n",
    "                    StructField(\"CAPITAL\", StringType(), False),\n",
    "                    StructField(\"POPULATION\", DoubleType(), False),\n",
    "                    StructField(\"AREA_KM2\", IntegerType(), False),\n",
    "                    StructField(\"REGION_ID\", IntegerType(), True),\n",
    "                    StructField(\"SUB_REGION_ID\", IntegerType(), True),\n",
    "                    StructField(\"INTERMEDIATE_REGION_ID\", IntegerType(), True),\n",
    "                    StructField(\"ORGANIZATION_REGION_ID\", IntegerType(), True)\n",
    "                    ]\n",
    "                    )\n",
    " \n",
    "countries=spark.read.csv(path=countries_path, header=True, schema=countries_schema)"
   ]
  },
  {
   "cell_type": "code",
   "execution_count": null,
   "id": "9fd387b4",
   "metadata": {},
   "outputs": [],
   "source": [
    "countries.display()"
   ]
  },
  {
   "cell_type": "code",
   "execution_count": null,
   "id": "271152e4",
   "metadata": {},
   "outputs": [],
   "source": [
    "# Importing all functions and using current_timestamp and withColumn\n",
    "from pyspark.sql.functions import *\n",
    "countries = countries.withColumn('timestamp', current_timestamp())"
   ]
  },
  {
   "cell_type": "code",
   "execution_count": null,
   "id": "43e4e051",
   "metadata": {},
   "outputs": [],
   "source": [
    "countries.display()"
   ]
  },
  {
   "cell_type": "code",
   "execution_count": null,
   "id": "80e9077e",
   "metadata": {},
   "outputs": [],
   "source": [
    "# Using year to extract the year\n",
    "countries.select(year(countries['timestamp'])).display()"
   ]
  },
  {
   "cell_type": "code",
   "execution_count": null,
   "id": "837d4d08",
   "metadata": {},
   "outputs": [],
   "source": [
    "#hard coded - literal date column\n",
    "countries = countries.withColumn('date_literal', lit('27-10-2020'))"
   ]
  },
  {
   "cell_type": "code",
   "execution_count": null,
   "id": "88ed65ec",
   "metadata": {},
   "outputs": [],
   "source": [
    "countries.display()"
   ]
  },
  {
   "cell_type": "code",
   "execution_count": null,
   "id": "2ef8a0dd",
   "metadata": {},
   "outputs": [],
   "source": [
    "countries.dtypes"
   ]
  },
  {
   "cell_type": "code",
   "execution_count": null,
   "id": "f00abf9d",
   "metadata": {},
   "outputs": [],
   "source": [
    "# Using the to_date function to convert a string to a date\n",
    "countries = countries.withColumn('date', to_date(countries['date_literal'],'dd-MM-yyyy'))"
   ]
  },
  {
   "cell_type": "code",
   "execution_count": null,
   "id": "b59813cb",
   "metadata": {},
   "outputs": [],
   "source": [
    "countries.display()"
   ]
  },
  {
   "cell_type": "code",
   "execution_count": null,
   "id": "a68b4755",
   "metadata": {},
   "outputs": [],
   "source": [
    "countries.dtypes\n",
    "\n",
    "''''''\n",
    "Out[11]: [('COUNTRY_ID', 'int'),\n",
    " ('NAME', 'string'),\n",
    " ('NATIONALITY', 'string'),\n",
    " ('COUNTRY_CODE', 'string'),\n",
    " ('ISO_ALPHA2', 'string'),\n",
    " ('CAPITAL', 'string'),\n",
    " ('POPULATION', 'double'),\n",
    " ('AREA_KM2', 'int'),\n",
    " ('REGION_ID', 'int'),\n",
    " ('SUB_REGION_ID', 'int'),\n",
    " ('INTERMEDIATE_REGION_ID', 'int'),\n",
    " ('ORGANIZATION_REGION_ID', 'int'),\n",
    " ('timestamp', 'timestamp'),\n",
    " ('date_literal', 'string')]\n",
    " \n",
    " ''''''"
   ]
  },
  {
   "cell_type": "code",
   "execution_count": null,
   "id": "fecad25c",
   "metadata": {},
   "outputs": [],
   "source": [
    "\n",
    "# Using the to_date function to convert a string to a date\n",
    "countries = countries.withColumn('date', to_date(countries['date_literal'],'dd-MM-yyyy'))"
   ]
  },
  {
   "cell_type": "code",
   "execution_count": null,
   "id": "eb07725c",
   "metadata": {},
   "outputs": [],
   "source": [
    "countries.display()"
   ]
  },
  {
   "cell_type": "code",
   "execution_count": null,
   "id": "0fb8ba10",
   "metadata": {},
   "outputs": [],
   "source": [
    "countries.dtypes\n",
    "\n",
    "''''''\n",
    "Out[15]: [('COUNTRY_ID', 'int'),\n",
    " ('NAME', 'string'),\n",
    " ('NATIONALITY', 'string'),\n",
    " ('COUNTRY_CODE', 'string'),\n",
    " ('ISO_ALPHA2', 'string'),\n",
    " ('CAPITAL', 'string'),\n",
    " ('POPULATION', 'double'),\n",
    " ('AREA_KM2', 'int'),\n",
    " ('REGION_ID', 'int'),\n",
    " ('SUB_REGION_ID', 'int'),\n",
    " ('INTERMEDIATE_REGION_ID', 'int'),\n",
    " ('ORGANIZATION_REGION_ID', 'int'),\n",
    " ('timestamp', 'timestamp'),\n",
    " ('date_literal', 'string'),\n",
    " ('date', 'date')]\n",
    "    ''''''"
   ]
  }
 ],
 "metadata": {
  "kernelspec": {
   "display_name": "Python 3 (ipykernel)",
   "language": "python",
   "name": "python3"
  },
  "language_info": {
   "codemirror_mode": {
    "name": "ipython",
    "version": 3
   },
   "file_extension": ".py",
   "mimetype": "text/x-python",
   "name": "python",
   "nbconvert_exporter": "python",
   "pygments_lexer": "ipython3",
   "version": "3.9.13"
  }
 },
 "nbformat": 4,
 "nbformat_minor": 5
}
