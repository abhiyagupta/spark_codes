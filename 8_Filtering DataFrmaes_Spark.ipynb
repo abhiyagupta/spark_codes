{
 "cells": [
  {
   "cell_type": "markdown",
   "id": "71509178",
   "metadata": {},
   "source": [
    "# Filtering Dataframes\n",
    "\n",
    "'''\n",
    "Resources\n",
    "filter: https://spark.apache.org/docs/latest/api/python/reference/pyspark.pandas/api/pyspark.pandas.DataFrame.filter.html?highlight=filter#pyspark.pandas.DataFrame.filter\n",
    "Operators for conditional statements: https://spark.apache.org/docs/2.3.0/api/sql/index.html\\\n",
    "'''"
   ]
  },
  {
   "cell_type": "code",
   "execution_count": null,
   "id": "e0eaef14",
   "metadata": {},
   "outputs": [],
   "source": [
    "# Reading in the countries csv file\n",
    "countries_path = '/FileStore/tables/countries.csv'\n",
    " \n",
    "from pyspark.sql.types import IntegerType, StringType, DoubleType, StructField, StructType\n",
    "countries_schema = StructType([\n",
    "                    StructField(\"COUNTRY_ID\", IntegerType(), False),\n",
    "                    StructField(\"NAME\", StringType(), False),\n",
    "                    StructField(\"NATIONALITY\", StringType(), False),\n",
    "                    StructField(\"COUNTRY_CODE\", StringType(), False),\n",
    "                    StructField(\"ISO_ALPHA2\", StringType(), False),\n",
    "                    StructField(\"CAPITAL\", StringType(), False),\n",
    "                    StructField(\"POPULATION\", DoubleType(), False),\n",
    "                    StructField(\"AREA_KM2\", IntegerType(), False),\n",
    "                    StructField(\"REGION_ID\", IntegerType(), True),\n",
    "                    StructField(\"SUB_REGION_ID\", IntegerType(), True),\n",
    "                    StructField(\"INTERMEDIATE_REGION_ID\", IntegerType(), True),\n",
    "                    StructField(\"ORGANIZATION_REGION_ID\", IntegerType(), True)\n",
    "                    ]\n",
    "                    )\n",
    " \n",
    "countries=spark.read.csv(path=countries_path, header=True, schema=countries_schema)"
   ]
  },
  {
   "cell_type": "code",
   "execution_count": null,
   "id": "1b4a624e",
   "metadata": {},
   "outputs": [],
   "source": [
    "countries.dispaly()"
   ]
  },
  {
   "cell_type": "code",
   "execution_count": null,
   "id": "d7d9afa6",
   "metadata": {},
   "outputs": [],
   "source": [
    "# Using the filter method to filter records where populaton is less than 1000000000\n",
    "countries.filter(countries['population']>1000000000).display()"
   ]
  },
  {
   "cell_type": "code",
   "execution_count": null,
   "id": "62af31b9",
   "metadata": {},
   "outputs": [],
   "source": [
    "# Using the locate function inside the filter condition\n",
    "from pyspark.sql.functions import locate\n",
    "countries.filter(locate(\"B\", countries['capital'])==1).display()"
   ]
  },
  {
   "cell_type": "code",
   "execution_count": null,
   "id": "9d9debfa",
   "metadata": {},
   "outputs": [],
   "source": [
    "# Using multiple conditions with the OR '|' Pipe Operator\n",
    "countries.filter(  (locate(\"B\", countries['capital'])==1) | (countries['population']>1000000000)    ).display()"
   ]
  },
  {
   "cell_type": "code",
   "execution_count": null,
   "id": "d5a5f93c",
   "metadata": {},
   "outputs": [],
   "source": [
    "# Using the not if condition\n",
    "countries.filter(\"region_id != 10 and population ==0\").display()"
   ]
  },
  {
   "cell_type": "code",
   "execution_count": null,
   "id": "494b64a6",
   "metadata": {},
   "outputs": [],
   "source": [
    "# Impporting the length function\n",
    "from pyspark.sql.functions import length"
   ]
  },
  {
   "cell_type": "code",
   "execution_count": null,
   "id": "b3e1ab80",
   "metadata": {},
   "outputs": [],
   "source": [
    "# Using 'AND' condition via & operator\n",
    "countries.filter( (length(countries['name']) > 15) & (countries['region_id'] != 10 )  ).display()"
   ]
  },
  {
   "cell_type": "code",
   "execution_count": null,
   "id": "fba4a9ce",
   "metadata": {},
   "outputs": [],
   "source": [
    "# Using SQL syntax in the filter method\n",
    "countries.filter(\"length(name)>15 and region_id != 10\").display()"
   ]
  }
 ],
 "metadata": {
  "kernelspec": {
   "display_name": "Python 3 (ipykernel)",
   "language": "python",
   "name": "python3"
  },
  "language_info": {
   "codemirror_mode": {
    "name": "ipython",
    "version": 3
   },
   "file_extension": ".py",
   "mimetype": "text/x-python",
   "name": "python",
   "nbconvert_exporter": "python",
   "pygments_lexer": "ipython3",
   "version": "3.9.13"
  }
 },
 "nbformat": 4,
 "nbformat_minor": 5
}
